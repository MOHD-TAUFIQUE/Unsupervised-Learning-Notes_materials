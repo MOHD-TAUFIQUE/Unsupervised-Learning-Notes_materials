{
  "nbformat": 4,
  "nbformat_minor": 0,
  "metadata": {
    "colab": {
      "provenance": [],
      "include_colab_link": true
    },
    "kernelspec": {
      "name": "python3",
      "display_name": "Python 3"
    },
    "language_info": {
      "name": "python"
    }
  },
  "cells": [
    {
      "cell_type": "markdown",
      "metadata": {
        "id": "view-in-github",
        "colab_type": "text"
      },
      "source": [
        "<a href=\"https://colab.research.google.com/github/MOHD-TAUFIQUE/Unsupervised_Learning_ML_Notes-materials-Coding-Practise/blob/main/Copy_of_PCA_Extra_Maths_Mohd_Taufique.ipynb\" target=\"_parent\"><img src=\"https://colab.research.google.com/assets/colab-badge.svg\" alt=\"Open In Colab\"/></a>"
      ]
    },
    {
      "cell_type": "code",
      "execution_count": null,
      "metadata": {
        "colab": {
          "base_uri": "https://localhost:8080/"
        },
        "id": "lUUwU10RhlG4",
        "outputId": "8f571734-9044-4109-d340-9412a69bd7e5"
      },
      "outputs": [
        {
          "output_type": "execute_result",
          "data": {
            "text/plain": [
              "array([[10. , 11. ,  8. ,  3. ,  2. ,  1. ],\n",
              "       [ 6. ,  4. ,  5. ,  3. ,  2.8,  1. ]])"
            ]
          },
          "metadata": {},
          "execution_count": 1
        }
      ],
      "source": [
        "import numpy as np\n",
        "\n",
        "A = np.array([[10,11,8,3,2,1],[6,4,5,3,2.8,1]])\n",
        "A\n",
        "\n",
        "# 3-Dimension\n",
        "\n",
        "# A = np.array([[10,11,8,3,2,1],[6,4,5,3,2.8,1],[12,9,10,2.5,1.3,2]])\n",
        "# A"
      ]
    },
    {
      "cell_type": "code",
      "source": [
        "M = np.mean(A, axis=1)\n",
        "\n",
        "#Centre columns by subtracting means\n",
        "C = A.T-M\n",
        "\n",
        "print(\"Mean of the individual dimension are:\")\n",
        "print(M)\n",
        "print(\" \")\n",
        "print(\"Resultant of each point after mean standardardization:\")\n",
        "print(C)\n",
        "#Calculate covariance matrix\n",
        "V = np.cov(C.T)\n",
        "print(\" \")\n",
        "print(\"Covariance Matrix:\")\n",
        "print(V)\n",
        "eigen_values, eigen_vectors = np.linalg.eig(V)\n",
        "print(\" \")\n",
        "print(\"Eigen Values/Variation in the Principal components:\")\n",
        "print(eigen_values)\n",
        "print(\" \")\n",
        "print(\"Eigen Vectors/Components of PCA:\")\n",
        "print(eigen_vectors)\n"
      ],
      "metadata": {
        "colab": {
          "base_uri": "https://localhost:8080/"
        },
        "id": "Ua1a3XHDh0XI",
        "outputId": "9c3aad36-2c62-4d21-d41b-fc78549818de"
      },
      "execution_count": null,
      "outputs": [
        {
          "output_type": "stream",
          "name": "stdout",
          "text": [
            "Mean of the individual dimension are:\n",
            "[5.83333333 3.63333333]\n",
            " \n",
            "Resultant of each point after mean standardardization:\n",
            "[[ 4.16666667  2.36666667]\n",
            " [ 5.16666667  0.36666667]\n",
            " [ 2.16666667  1.36666667]\n",
            " [-2.83333333 -0.63333333]\n",
            " [-3.83333333 -0.83333333]\n",
            " [-4.83333333 -2.63333333]]\n",
            " \n",
            "Covariance Matrix:\n",
            "[[18.96666667  6.48666667]\n",
            " [ 6.48666667  3.12666667]]\n",
            " \n",
            "Eigen Values/Variation in the Principal components:\n",
            "[21.28401224  0.80932109]\n",
            " \n",
            "Eigen Vectors/Components of PCA:\n",
            "[[ 0.94171069 -0.33642381]\n",
            " [ 0.33642381  0.94171069]]\n"
          ]
        }
      ]
    },
    {
      "cell_type": "code",
      "source": [
        "21.28401224/(21.28401224+0.80932109)"
      ],
      "metadata": {
        "colab": {
          "base_uri": "https://localhost:8080/"
        },
        "id": "Xtzhn8RlyCTa",
        "outputId": "8fabc5df-defb-490e-fb17-22fc0b90b36b"
      },
      "execution_count": null,
      "outputs": [
        {
          "output_type": "execute_result",
          "data": {
            "text/plain": [
              "0.9633680858423911"
            ]
          },
          "metadata": {},
          "execution_count": 5
        }
      ]
    },
    {
      "cell_type": "code",
      "source": [
        "0.9417106*0.9417106+ 0.33642381*0.33642381"
      ],
      "metadata": {
        "colab": {
          "base_uri": "https://localhost:8080/"
        },
        "id": "79NSBtwaPssA",
        "outputId": "d39e4b83-31b1-4a62-9b96-6395ec3f961b"
      },
      "execution_count": null,
      "outputs": [
        {
          "output_type": "execute_result",
          "data": {
            "text/plain": [
              "0.999999834087276"
            ]
          },
          "metadata": {},
          "execution_count": 6
        }
      ]
    },
    {
      "cell_type": "code",
      "source": [
        "42.45597038/(42.45597038+1.35766391+0.5263657)"
      ],
      "metadata": {
        "id": "ktpm8x9wiaJT",
        "colab": {
          "base_uri": "https://localhost:8080/"
        },
        "outputId": "dee605a6-33d2-4cef-be36-261207964389"
      },
      "execution_count": null,
      "outputs": [
        {
          "output_type": "execute_result",
          "data": {
            "text/plain": [
              "0.9575094810458975"
            ]
          },
          "metadata": {},
          "execution_count": 7
        }
      ]
    },
    {
      "cell_type": "code",
      "source": [
        "from sklearn.decomposition import PCA\n",
        "\n",
        "pca = PCA(n_components=2)\n",
        "pca.fit(A.T)\n",
        "X_pca = pca.transform(A.T)\n",
        "print(\"original shape:   \", A.T.shape)\n",
        "print(\"transformed shape:\", X_pca.shape)"
      ],
      "metadata": {
        "colab": {
          "base_uri": "https://localhost:8080/"
        },
        "id": "U9D1scA0kqrH",
        "outputId": "b0fe6c46-d21a-4f60-fb07-8e112b50c6ef"
      },
      "execution_count": null,
      "outputs": [
        {
          "output_type": "stream",
          "name": "stdout",
          "text": [
            "original shape:    (6, 2)\n",
            "transformed shape: (6, 2)\n"
          ]
        }
      ]
    },
    {
      "cell_type": "code",
      "source": [
        "%matplotlib inline\n",
        "import numpy as np\n",
        "import matplotlib.pyplot as plt\n",
        "import seaborn as sns; sns.set()\n",
        "\n",
        "X_new = pca.inverse_transform(X_pca)\n",
        "plt.scatter(A.T[:, 0], A.T[:, 1], alpha=0.2)\n",
        "plt.scatter(X_new[:, 0], X_new[:, 1], alpha=0.8)\n",
        "plt.axis('equal')"
      ],
      "metadata": {
        "id": "lRc4MJ16lXgH",
        "colab": {
          "base_uri": "https://localhost:8080/",
          "height": 287
        },
        "outputId": "61bb22d0-c410-47d7-ea4b-c0bc406a46ce"
      },
      "execution_count": null,
      "outputs": [
        {
          "output_type": "execute_result",
          "data": {
            "text/plain": [
              "(0.4999999999999999, 11.500000000000002, 0.7499999999999996, 6.25)"
            ]
          },
          "metadata": {},
          "execution_count": 9
        },
        {
          "output_type": "display_data",
          "data": {
            "text/plain": [
              "<Figure size 432x288 with 1 Axes>"
            ],
            "image/png": "[encoded data removed]"
          },
          "metadata": {}
        }
      ]
    },
    {
      "cell_type": "code",
      "source": [
        "print(pca.components_)"
      ],
      "metadata": {
        "colab": {
          "base_uri": "https://localhost:8080/"
        },
        "id": "pvosTKq_k3n0",
        "outputId": "2b6e6c2c-b0b0-409d-e6f1-5edad83ea830"
      },
      "execution_count": null,
      "outputs": [
        {
          "output_type": "stream",
          "name": "stdout",
          "text": [
            "[[-0.94171069 -0.33642381]\n",
            " [ 0.33642381 -0.94171069]]\n"
          ]
        }
      ]
    },
    {
      "cell_type": "code",
      "source": [
        "print(pca.explained_variance_)"
      ],
      "metadata": {
        "colab": {
          "base_uri": "https://localhost:8080/"
        },
        "id": "MPeX1kASk7He",
        "outputId": "03bb9491-aeb5-44e7-8d35-b2319125eece"
      },
      "execution_count": null,
      "outputs": [
        {
          "output_type": "stream",
          "name": "stdout",
          "text": [
            "[21.28401224  0.80932109]\n"
          ]
        }
      ]
    },
    {
      "cell_type": "code",
      "source": [
        "print(pca.explained_variance_ratio_*100)"
      ],
      "metadata": {
        "colab": {
          "base_uri": "https://localhost:8080/"
        },
        "id": "Tyvaitcik_Na",
        "outputId": "cd03898c-f781-46c7-eece-94ae0ca9d3db"
      },
      "execution_count": null,
      "outputs": [
        {
          "output_type": "stream",
          "name": "stdout",
          "text": [
            "[96.33680858  3.66319142]\n"
          ]
        }
      ]
    },
    {
      "cell_type": "code",
      "source": [],
      "metadata": {
        "id": "0E_0R65YjAjJ"
      },
      "execution_count": null,
      "outputs": []
    }
  ]
}